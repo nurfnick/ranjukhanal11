{
  "nbformat": 4,
  "nbformat_minor": 0,
  "metadata": {
    "colab": {
      "name": "01_python.ipynb",
      "provenance": [],
      "authorship_tag": "ABX9TyOyRiJFgo0JY6ChOkeIxDe4",
      "include_colab_link": true
    },
    "kernelspec": {
      "name": "python3",
      "display_name": "Python 3"
    },
    "language_info": {
      "name": "python"
    }
  },
  "cells": [
    {
      "cell_type": "markdown",
      "metadata": {
        "id": "view-in-github",
        "colab_type": "text"
      },
      "source": [
        "<a href=\"https://colab.research.google.com/github/ranjukhanal11/ranjukhanal11/blob/main/01_python.ipynb\" target=\"_parent\"><img src=\"https://colab.research.google.com/assets/colab-badge.svg\" alt=\"Open In Colab\"/></a>"
      ]
    },
    {
      "cell_type": "markdown",
      "source": [
        "# This is the program of hello world in Jupyter notebook using COLAB"
      ],
      "metadata": {
        "id": "FfC08zJVxu2Q"
      }
    },
    {
      "cell_type": "markdown",
      "source": [
        "#### This is the heading 4\n",
        "- Hello Word\n",
        "- Addition **of two number**\n",
        "- **Subraction**\n",
        "\n",
        "[www.google.com](https://google.com)"
      ],
      "metadata": {
        "id": "xR595pObyDPG"
      }
    },
    {
      "cell_type": "code",
      "execution_count": 1,
      "metadata": {
        "colab": {
          "base_uri": "https://localhost:8080/"
        },
        "id": "AcQX2DMsxt5g",
        "outputId": "fdbd038c-26e1-4f22-9113-bdeaf126c162"
      },
      "outputs": [
        {
          "output_type": "stream",
          "name": "stdout",
          "text": [
            "Hello World\n"
          ]
        }
      ],
      "source": [
        "print(\"Hello World\")"
      ]
    },
    {
      "cell_type": "code",
      "source": [
        "print(3+2)"
      ],
      "metadata": {
        "colab": {
          "base_uri": "https://localhost:8080/"
        },
        "id": "GKgKmj7ByYRv",
        "outputId": "1deec2c4-7e49-4690-9ea7-c51831a0f07e"
      },
      "execution_count": 2,
      "outputs": [
        {
          "output_type": "stream",
          "name": "stdout",
          "text": [
            "5\n"
          ]
        }
      ]
    },
    {
      "cell_type": "code",
      "source": [
        "print(3-2)"
      ],
      "metadata": {
        "colab": {
          "base_uri": "https://localhost:8080/"
        },
        "id": "TGQjicmkybR3",
        "outputId": "7b01c29e-4d75-4064-a9cf-c945ba8f6927"
      },
      "execution_count": 3,
      "outputs": [
        {
          "output_type": "stream",
          "name": "stdout",
          "text": [
            "1\n"
          ]
        }
      ]
    }
  ]
}